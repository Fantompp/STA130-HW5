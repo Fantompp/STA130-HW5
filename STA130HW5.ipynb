{
  "nbformat": 4,
  "nbformat_minor": 0,
  "metadata": {
    "colab": {
      "provenance": [],
      "authorship_tag": "ABX9TyNirTf8bUs7jhjrsoZ/j16o",
      "include_colab_link": true
    },
    "kernelspec": {
      "name": "python3",
      "display_name": "Python 3"
    },
    "language_info": {
      "name": "python"
    }
  },
  "cells": [
    {
      "cell_type": "markdown",
      "metadata": {
        "id": "view-in-github",
        "colab_type": "text"
      },
      "source": [
        "<a href=\"https://colab.research.google.com/github/Fantompp/STA130-HW5/blob/main/STA130HW5.ipynb\" target=\"_parent\"><img src=\"https://colab.research.google.com/assets/colab-badge.svg\" alt=\"Open In Colab\"/></a>"
      ]
    },
    {
      "cell_type": "code",
      "execution_count": null,
      "metadata": {
        "id": "9v2TkBT_yznX"
      },
      "outputs": [],
      "source": []
    },
    {
      "cell_type": "markdown",
      "source": [
        "# STA130 HW5\n",
        "\n",
        "### 2. The \"Pre-lecture\" video (above) suggested that the \"standard error of the mean\" could be used to create a confidence interval, but didn't describe exactly how to do this. How can we use the \"standard error of the mean\" to create a 95% confidence interval which \"covers 95% of the bootstrapped sample means\"? Explain this concisely in your own words.\n",
        "\n",
        "The \"standard error\" of a statistic across many samples is calculated in the same way as the standard deviation of data.\n",
        "\n",
        "Due to the central limit theorem, we can assume the distribution of the sample means will follow a normal distribution, and thus we can use the sample error of the mean in the same way we would use the standard distribution of a normal distribution.\n",
        "\n",
        "Thus, the 95% confidence interval that \"covers 95% of the bootstrapped sample means\" would simply be the mean of the bootstrapped means, +- 2 standard errors of the mean."
      ],
      "metadata": {
        "id": "GbJHW9lizAie"
      }
    },
    {
      "cell_type": "code",
      "source": [],
      "metadata": {
        "id": "ZmlD6qQa3bBI"
      },
      "execution_count": null,
      "outputs": []
    },
    {
      "cell_type": "markdown",
      "source": [
        "### 4. The \"Pre-lecture\" video (above) mentioned that bootstrap confidence intervals could apply to other statistics of the sample, such as the \"median\". Work with a ChatBot to create code to produce a 95% bootstrap confidence interval for a population mean based on a sample that you have and comment the code to demonstrate how the code can be changed to produce a 95% bootstrap confidence interval for different population parameter (other than the population mean, such as the population median).\n"
      ],
      "metadata": {
        "id": "weXiGNot3bji"
      }
    },
    {
      "cell_type": "code",
      "source": [
        "# Functions From Previous Homework\n",
        "\n",
        "# Create a single boostrapped sample\n",
        "def bootstrap_sample(data):\n",
        "    # Sample with replacement the same size as the original data\n",
        "    return data.sample(n=len(data), replace=True)\n",
        "\n",
        "# Create multiple bootstrapped samples\n",
        "def bootstrap_samples(data, n_samples=1000):\n",
        "    samples = []\n",
        "    for _ in range(n_samples):\n",
        "        sample = bootstrap_sample(data)\n",
        "        samples.append(sample)\n",
        "    return samples"
      ],
      "metadata": {
        "id": "J0UmPMDc3pR1"
      },
      "execution_count": null,
      "outputs": []
    },
    {
      "cell_type": "code",
      "source": [
        "n_samples = 1000\n",
        "bootstrapped_samples = bootstrap_samples(data, n_samples=n_samples)\n",
        "# This code won't run, because we haven't defined a sample. However, to make it run, we'd simply need to set data to a sample"
      ],
      "metadata": {
        "id": "fgV3JsIP31z9"
      },
      "execution_count": null,
      "outputs": []
    },
    {
      "cell_type": "code",
      "source": [
        "# Change the following line for different statistics\n",
        "bootstrapped_means = [sample.mean() for sample in bootstrapped_samples]\n",
        "\n",
        "x = bootstrapped_means\n",
        "\n",
        "# Calculate the 95th percentiles for confidence intervals\n",
        "percentiles = [2.5, 97.5]  # 95% confidence interval\n",
        "lower_bound = np.percentile(x, percentiles[0])  # 2.5th percentile\n",
        "upper_bound = np.percentile(x, percentiles[1])  # 97.5th percentile\n"
      ],
      "metadata": {
        "id": "omI5EQfW4DKw"
      },
      "execution_count": null,
      "outputs": []
    },
    {
      "cell_type": "markdown",
      "source": [
        "The above code finds the 95% confidence interval for bootstrapped means (lower_bound and upper_bound).\n",
        "\n",
        "To use the code for a different statistic, simply change `.mean()` to a different statistic, such as `.median()`.\n",
        "\n",
        "No ChatGPT log is included, as the code is simply lightly editted from the previous homework."
      ],
      "metadata": {
        "id": "XVB79wH14Olg"
      }
    },
    {
      "cell_type": "code",
      "source": [],
      "metadata": {
        "id": "jAdMgnGEXThB"
      },
      "execution_count": null,
      "outputs": []
    },
    {
      "cell_type": "markdown",
      "source": [
        "# 8. Assignment"
      ],
      "metadata": {
        "id": "LYY52Uk05VdA"
      }
    },
    {
      "cell_type": "code",
      "source": [
        "# Initialization\n",
        "import pandas as pd\n",
        "import numpy as np\n",
        "import bokeh as bk\n",
        "import bokeh.plotting as bkp\n",
        "import bokeh.models as bkm\n",
        "np.random.seed(0)"
      ],
      "metadata": {
        "id": "FPFEZ-in5VIM"
      },
      "execution_count": null,
      "outputs": []
    },
    {
      "cell_type": "code",
      "source": [
        "totalstudents = 80\n",
        "correct = 49"
      ],
      "metadata": {
        "id": "tC4fWXP-5qR9"
      },
      "execution_count": null,
      "outputs": []
    },
    {
      "cell_type": "markdown",
      "source": [
        "In Fisher's original experiment, his colleague guessed correctly 8 out of 8 times, when presented with cups of tea with milk poured in before and after the tea. This inspired a statistical test to figure out the likelihood that his colleague had simply gotten lucky, rather than having any ability to tell whether or not the milk went in first.|\n",
        "\n",
        "In our experiment, we posed a similar challenge to 80 students in a STA130 class. Each student was presented with a cup of tea, which either had the milk or the tea poured in first (with equal probability).\n",
        "\n",
        "The intent and population are different, as we aim to capture the general ability of STA130 students, rather than for a single person. The experimental procedure is also a little different, as each student only has a single cup of tea. This is more accurate, as in Fisher's experiment, his colleague could guess the last cups based on his earlier answers (i.e. if he'd already found 4 cups with milk first, then it follows the last cups must be tea first).\n",
        "\n",
        "In our test, 49 out of 80 students guessed correctly.\n",
        "\n",
        "To see whether this suggests a better than random ability to guess whether milk came first, we will test our results against the null hypothesis."
      ],
      "metadata": {
        "id": "TnmTOewzA1gF"
      }
    },
    {
      "cell_type": "code",
      "source": [
        "# Creating 1000 random samples according to the null hypothesis\n",
        "np.random.seed(1)\n",
        "null_samples = []\n",
        "test_count = 10000\n",
        "for i in range(test_count):\n",
        "  null_samples.append( np.random.binomial(n=1, p=0.5, size=totalstudents) ) # flipping 80 coins"
      ],
      "metadata": {
        "id": "8ydHfqsD-0kE"
      },
      "execution_count": null,
      "outputs": []
    },
    {
      "cell_type": "markdown",
      "source": [
        "## Hypothesis Testing\n",
        "Formally, the null hypothesis is the following:\n",
        "\n",
        "&nbsp; &nbsp;\n",
        "H<sub>0</sub> : p = 0.5\n",
        "\n",
        "This means that there is a 50% chance that a given student will guess correctly.\n",
        "\n",
        "The alternative hypothesis (H<sub>1</sub> : p > 0.5) in this case is that there is a greater than 50% chance that a given student will guess correctly, meaning the student is more likely than not to guess correctly."
      ],
      "metadata": {
        "id": "4LRSWNzoHzLd"
      }
    },
    {
      "cell_type": "code",
      "source": [
        "bk.io.output_notebook()\n",
        "\n",
        "from bokeh.plotting import figure, show\n",
        "\n",
        "x = [x.sum() for x in null_samples] # the number of correct guesses in each sample\n",
        "\n",
        "\n",
        "p = figure(width=870, height=550, toolbar_location=None,\n",
        "        title=\"Testing the Null Hypothesis Against the Observed Accuracy \\n10000 Simulated Samples\")\n",
        "\n",
        "# Histogram\n",
        "bins = np.linspace(24.5,59.5,36)\n",
        "hist, edges = np.histogram(x, density=True, bins=bins)\n",
        "colors = [\"lightsalmon\" if (edge > 48) else \"skyblue\" for edge in edges[:-1]]\n",
        "p.quad(top=hist, bottom=0, left=edges[:-1], right=edges[1:],\n",
        "         fill_color=colors, line_color=\"white\",\n",
        "         legend_label=\"Simulated Samples (10000)\")\n",
        "\n",
        "\n",
        "# Add confidence intervals as vertical lines\n",
        "p.line(x=[40,40], y=[0, max(hist)], line_color='black',\n",
        "       line_width=2, legend_label='Null Hypothesis (p = 0.5)', line_dash='dashed')\n",
        "p.line(x=[49,49], y=[0, max(hist)], line_color='red',\n",
        "       line_width=2, legend_label='Observed Result (49 correct guesses)', line_dash='dashed')\n",
        "\n",
        "\n",
        "# Add Label to red portion\n",
        "label = bkm.Label(x=50.5, y=0.009,\n",
        "                  text='>= 49 correct guesses')\n",
        "p.add_layout(label)\n",
        "\n",
        "\n",
        "p.y_range.start = 0\n",
        "\n",
        "p.xaxis.axis_label = \"Correct Guesses (out of 80)\"\n",
        "p.yaxis.axis_label = \"Relative Frequency\"\n",
        "\n",
        "show(p)"
      ],
      "metadata": {
        "colab": {
          "base_uri": "https://localhost:8080/",
          "height": 567
        },
        "id": "SvtGzbLWKwhz",
        "outputId": "019247b6-9da4-4f99-a5cc-98073f44387d"
      },
      "execution_count": null,
      "outputs": [
        {
          "output_type": "display_data",
          "data": {
            "application/javascript": [
              "'use strict';\n",
              "(function(root) {\n",
              "  function now() {\n",
              "    return new Date();\n",
              "  }\n",
              "\n",
              "  const force = true;\n",
              "\n",
              "  if (typeof root._bokeh_onload_callbacks === \"undefined\" || force === true) {\n",
              "    root._bokeh_onload_callbacks = [];\n",
              "    root._bokeh_is_loading = undefined;\n",
              "  }\n",
              "\n",
              "const JS_MIME_TYPE = 'application/javascript';\n",
              "  const HTML_MIME_TYPE = 'text/html';\n",
              "  const EXEC_MIME_TYPE = 'application/vnd.bokehjs_exec.v0+json';\n",
              "  const CLASS_NAME = 'output_bokeh rendered_html';\n",
              "\n",
              "  /**\n",
              "   * Render data to the DOM node\n",
              "   */\n",
              "  function render(props, node) {\n",
              "    const script = document.createElement(\"script\");\n",
              "    node.appendChild(script);\n",
              "  }\n",
              "\n",
              "  /**\n",
              "   * Handle when an output is cleared or removed\n",
              "   */\n",
              "  function handleClearOutput(event, handle) {\n",
              "    function drop(id) {\n",
              "      const view = Bokeh.index.get_by_id(id)\n",
              "      if (view != null) {\n",
              "        view.model.document.clear()\n",
              "        Bokeh.index.delete(view)\n",
              "      }\n",
              "    }\n",
              "\n",
              "    const cell = handle.cell;\n",
              "\n",
              "    const id = cell.output_area._bokeh_element_id;\n",
              "    const server_id = cell.output_area._bokeh_server_id;\n",
              "\n",
              "    // Clean up Bokeh references\n",
              "    if (id != null) {\n",
              "      drop(id)\n",
              "    }\n",
              "\n",
              "    if (server_id !== undefined) {\n",
              "      // Clean up Bokeh references\n",
              "      const cmd_clean = \"from bokeh.io.state import curstate; print(curstate().uuid_to_server['\" + server_id + \"'].get_sessions()[0].document.roots[0]._id)\";\n",
              "      cell.notebook.kernel.execute(cmd_clean, {\n",
              "        iopub: {\n",
              "          output: function(msg) {\n",
              "            const id = msg.content.text.trim()\n",
              "            drop(id)\n",
              "          }\n",
              "        }\n",
              "      });\n",
              "      // Destroy server and session\n",
              "      const cmd_destroy = \"import bokeh.io.notebook as ion; ion.destroy_server('\" + server_id + \"')\";\n",
              "      cell.notebook.kernel.execute(cmd_destroy);\n",
              "    }\n",
              "  }\n",
              "\n",
              "  /**\n",
              "   * Handle when a new output is added\n",
              "   */\n",
              "  function handleAddOutput(event, handle) {\n",
              "    const output_area = handle.output_area;\n",
              "    const output = handle.output;\n",
              "\n",
              "    // limit handleAddOutput to display_data with EXEC_MIME_TYPE content only\n",
              "    if ((output.output_type != \"display_data\") || (!Object.prototype.hasOwnProperty.call(output.data, EXEC_MIME_TYPE))) {\n",
              "      return\n",
              "    }\n",
              "\n",
              "    const toinsert = output_area.element.find(\".\" + CLASS_NAME.split(' ')[0]);\n",
              "\n",
              "    if (output.metadata[EXEC_MIME_TYPE][\"id\"] !== undefined) {\n",
              "      toinsert[toinsert.length - 1].firstChild.textContent = output.data[JS_MIME_TYPE];\n",
              "      // store reference to embed id on output_area\n",
              "      output_area._bokeh_element_id = output.metadata[EXEC_MIME_TYPE][\"id\"];\n",
              "    }\n",
              "    if (output.metadata[EXEC_MIME_TYPE][\"server_id\"] !== undefined) {\n",
              "      const bk_div = document.createElement(\"div\");\n",
              "      bk_div.innerHTML = output.data[HTML_MIME_TYPE];\n",
              "      const script_attrs = bk_div.children[0].attributes;\n",
              "      for (let i = 0; i < script_attrs.length; i++) {\n",
              "        toinsert[toinsert.length - 1].firstChild.setAttribute(script_attrs[i].name, script_attrs[i].value);\n",
              "        toinsert[toinsert.length - 1].firstChild.textContent = bk_div.children[0].textContent\n",
              "      }\n",
              "      // store reference to server id on output_area\n",
              "      output_area._bokeh_server_id = output.metadata[EXEC_MIME_TYPE][\"server_id\"];\n",
              "    }\n",
              "  }\n",
              "\n",
              "  function register_renderer(events, OutputArea) {\n",
              "\n",
              "    function append_mime(data, metadata, element) {\n",
              "      // create a DOM node to render to\n",
              "      const toinsert = this.create_output_subarea(\n",
              "        metadata,\n",
              "        CLASS_NAME,\n",
              "        EXEC_MIME_TYPE\n",
              "      );\n",
              "      this.keyboard_manager.register_events(toinsert);\n",
              "      // Render to node\n",
              "      const props = {data: data, metadata: metadata[EXEC_MIME_TYPE]};\n",
              "      render(props, toinsert[toinsert.length - 1]);\n",
              "      element.append(toinsert);\n",
              "      return toinsert\n",
              "    }\n",
              "\n",
              "    /* Handle when an output is cleared or removed */\n",
              "    events.on('clear_output.CodeCell', handleClearOutput);\n",
              "    events.on('delete.Cell', handleClearOutput);\n",
              "\n",
              "    /* Handle when a new output is added */\n",
              "    events.on('output_added.OutputArea', handleAddOutput);\n",
              "\n",
              "    /**\n",
              "     * Register the mime type and append_mime function with output_area\n",
              "     */\n",
              "    OutputArea.prototype.register_mime_type(EXEC_MIME_TYPE, append_mime, {\n",
              "      /* Is output safe? */\n",
              "      safe: true,\n",
              "      /* Index of renderer in `output_area.display_order` */\n",
              "      index: 0\n",
              "    });\n",
              "  }\n",
              "\n",
              "  // register the mime type if in Jupyter Notebook environment and previously unregistered\n",
              "  if (root.Jupyter !== undefined) {\n",
              "    const events = require('base/js/events');\n",
              "    const OutputArea = require('notebook/js/outputarea').OutputArea;\n",
              "\n",
              "    if (OutputArea.prototype.mime_types().indexOf(EXEC_MIME_TYPE) == -1) {\n",
              "      register_renderer(events, OutputArea);\n",
              "    }\n",
              "  }\n",
              "  if (typeof (root._bokeh_timeout) === \"undefined\" || force === true) {\n",
              "    root._bokeh_timeout = Date.now() + 5000;\n",
              "    root._bokeh_failed_load = false;\n",
              "  }\n",
              "\n",
              "  const NB_LOAD_WARNING = {'data': {'text/html':\n",
              "     \"<div style='background-color: #fdd'>\\n\"+\n",
              "     \"<p>\\n\"+\n",
              "     \"BokehJS does not appear to have successfully loaded. If loading BokehJS from CDN, this \\n\"+\n",
              "     \"may be due to a slow or bad network connection. Possible fixes:\\n\"+\n",
              "     \"</p>\\n\"+\n",
              "     \"<ul>\\n\"+\n",
              "     \"<li>re-rerun `output_notebook()` to attempt to load from CDN again, or</li>\\n\"+\n",
              "     \"<li>use INLINE resources instead, as so:</li>\\n\"+\n",
              "     \"</ul>\\n\"+\n",
              "     \"<code>\\n\"+\n",
              "     \"from bokeh.resources import INLINE\\n\"+\n",
              "     \"output_notebook(resources=INLINE)\\n\"+\n",
              "     \"</code>\\n\"+\n",
              "     \"</div>\"}};\n",
              "\n",
              "  function display_loaded(error = null) {\n",
              "    const el = document.getElementById(null);\n",
              "    if (el != null) {\n",
              "      const html = (() => {\n",
              "        if (typeof root.Bokeh === \"undefined\") {\n",
              "          if (error == null) {\n",
              "            return \"BokehJS is loading ...\";\n",
              "          } else {\n",
              "            return \"BokehJS failed to load.\";\n",
              "          }\n",
              "        } else {\n",
              "          const prefix = `BokehJS ${root.Bokeh.version}`;\n",
              "          if (error == null) {\n",
              "            return `${prefix} successfully loaded.`;\n",
              "          } else {\n",
              "            return `${prefix} <b>encountered errors</b> while loading and may not function as expected.`;\n",
              "          }\n",
              "        }\n",
              "      })();\n",
              "      el.innerHTML = html;\n",
              "\n",
              "      if (error != null) {\n",
              "        const wrapper = document.createElement(\"div\");\n",
              "        wrapper.style.overflow = \"auto\";\n",
              "        wrapper.style.height = \"5em\";\n",
              "        wrapper.style.resize = \"vertical\";\n",
              "        const content = document.createElement(\"div\");\n",
              "        content.style.fontFamily = \"monospace\";\n",
              "        content.style.whiteSpace = \"pre-wrap\";\n",
              "        content.style.backgroundColor = \"rgb(255, 221, 221)\";\n",
              "        content.textContent = error.stack ?? error.toString();\n",
              "        wrapper.append(content);\n",
              "        el.append(wrapper);\n",
              "      }\n",
              "    } else if (Date.now() < root._bokeh_timeout) {\n",
              "      setTimeout(() => display_loaded(error), 100);\n",
              "    }\n",
              "  }\n",
              "\n",
              "  function run_callbacks() {\n",
              "    try {\n",
              "      root._bokeh_onload_callbacks.forEach(function(callback) {\n",
              "        if (callback != null)\n",
              "          callback();\n",
              "      });\n",
              "    } finally {\n",
              "      delete root._bokeh_onload_callbacks\n",
              "    }\n",
              "    console.debug(\"Bokeh: all callbacks have finished\");\n",
              "  }\n",
              "\n",
              "  function load_libs(css_urls, js_urls, callback) {\n",
              "    if (css_urls == null) css_urls = [];\n",
              "    if (js_urls == null) js_urls = [];\n",
              "\n",
              "    root._bokeh_onload_callbacks.push(callback);\n",
              "    if (root._bokeh_is_loading > 0) {\n",
              "      console.debug(\"Bokeh: BokehJS is being loaded, scheduling callback at\", now());\n",
              "      return null;\n",
              "    }\n",
              "    if (js_urls == null || js_urls.length === 0) {\n",
              "      run_callbacks();\n",
              "      return null;\n",
              "    }\n",
              "    console.debug(\"Bokeh: BokehJS not loaded, scheduling load and callback at\", now());\n",
              "    root._bokeh_is_loading = css_urls.length + js_urls.length;\n",
              "\n",
              "    function on_load() {\n",
              "      root._bokeh_is_loading--;\n",
              "      if (root._bokeh_is_loading === 0) {\n",
              "        console.debug(\"Bokeh: all BokehJS libraries/stylesheets loaded\");\n",
              "        run_callbacks()\n",
              "      }\n",
              "    }\n",
              "\n",
              "    function on_error(url) {\n",
              "      console.error(\"failed to load \" + url);\n",
              "    }\n",
              "\n",
              "    for (let i = 0; i < css_urls.length; i++) {\n",
              "      const url = css_urls[i];\n",
              "      const element = document.createElement(\"link\");\n",
              "      element.onload = on_load;\n",
              "      element.onerror = on_error.bind(null, url);\n",
              "      element.rel = \"stylesheet\";\n",
              "      element.type = \"text/css\";\n",
              "      element.href = url;\n",
              "      console.debug(\"Bokeh: injecting link tag for BokehJS stylesheet: \", url);\n",
              "      document.body.appendChild(element);\n",
              "    }\n",
              "\n",
              "    for (let i = 0; i < js_urls.length; i++) {\n",
              "      const url = js_urls[i];\n",
              "      const element = document.createElement('script');\n",
              "      element.onload = on_load;\n",
              "      element.onerror = on_error.bind(null, url);\n",
              "      element.async = false;\n",
              "      element.src = url;\n",
              "      console.debug(\"Bokeh: injecting script tag for BokehJS library: \", url);\n",
              "      document.head.appendChild(element);\n",
              "    }\n",
              "  };\n",
              "\n",
              "  function inject_raw_css(css) {\n",
              "    const element = document.createElement(\"style\");\n",
              "    element.appendChild(document.createTextNode(css));\n",
              "    document.body.appendChild(element);\n",
              "  }\n",
              "\n",
              "  const js_urls = [\"https://cdn.bokeh.org/bokeh/release/bokeh-3.4.3.min.js\", \"https://cdn.bokeh.org/bokeh/release/bokeh-gl-3.4.3.min.js\", \"https://cdn.bokeh.org/bokeh/release/bokeh-widgets-3.4.3.min.js\", \"https://cdn.bokeh.org/bokeh/release/bokeh-tables-3.4.3.min.js\", \"https://cdn.bokeh.org/bokeh/release/bokeh-mathjax-3.4.3.min.js\"];\n",
              "  const css_urls = [];\n",
              "\n",
              "  const inline_js = [    function(Bokeh) {\n",
              "      Bokeh.set_log_level(\"info\");\n",
              "    },\n",
              "function(Bokeh) {\n",
              "    }\n",
              "  ];\n",
              "\n",
              "  function run_inline_js() {\n",
              "    if (root.Bokeh !== undefined || force === true) {\n",
              "      try {\n",
              "            for (let i = 0; i < inline_js.length; i++) {\n",
              "      inline_js[i].call(root, root.Bokeh);\n",
              "    }\n",
              "\n",
              "      } catch (error) {throw error;\n",
              "      }} else if (Date.now() < root._bokeh_timeout) {\n",
              "      setTimeout(run_inline_js, 100);\n",
              "    } else if (!root._bokeh_failed_load) {\n",
              "      console.log(\"Bokeh: BokehJS failed to load within specified timeout.\");\n",
              "      root._bokeh_failed_load = true;\n",
              "    } else if (force !== true) {\n",
              "      const cell = $(document.getElementById(null)).parents('.cell').data().cell;\n",
              "      cell.output_area.append_execute_result(NB_LOAD_WARNING)\n",
              "    }\n",
              "  }\n",
              "\n",
              "  if (root._bokeh_is_loading === 0) {\n",
              "    console.debug(\"Bokeh: BokehJS loaded, going straight to plotting\");\n",
              "    run_inline_js();\n",
              "  } else {\n",
              "    load_libs(css_urls, js_urls, function() {\n",
              "      console.debug(\"Bokeh: BokehJS plotting callback run at\", now());\n",
              "      run_inline_js();\n",
              "    });\n",
              "  }\n",
              "}(window));"
            ],
            "application/vnd.bokehjs_load.v0+json": "'use strict';\n(function(root) {\n  function now() {\n    return new Date();\n  }\n\n  const force = true;\n\n  if (typeof root._bokeh_onload_callbacks === \"undefined\" || force === true) {\n    root._bokeh_onload_callbacks = [];\n    root._bokeh_is_loading = undefined;\n  }\n\n\n  if (typeof (root._bokeh_timeout) === \"undefined\" || force === true) {\n    root._bokeh_timeout = Date.now() + 5000;\n    root._bokeh_failed_load = false;\n  }\n\n  const NB_LOAD_WARNING = {'data': {'text/html':\n     \"<div style='background-color: #fdd'>\\n\"+\n     \"<p>\\n\"+\n     \"BokehJS does not appear to have successfully loaded. If loading BokehJS from CDN, this \\n\"+\n     \"may be due to a slow or bad network connection. Possible fixes:\\n\"+\n     \"</p>\\n\"+\n     \"<ul>\\n\"+\n     \"<li>re-rerun `output_notebook()` to attempt to load from CDN again, or</li>\\n\"+\n     \"<li>use INLINE resources instead, as so:</li>\\n\"+\n     \"</ul>\\n\"+\n     \"<code>\\n\"+\n     \"from bokeh.resources import INLINE\\n\"+\n     \"output_notebook(resources=INLINE)\\n\"+\n     \"</code>\\n\"+\n     \"</div>\"}};\n\n  function display_loaded(error = null) {\n    const el = document.getElementById(null);\n    if (el != null) {\n      const html = (() => {\n        if (typeof root.Bokeh === \"undefined\") {\n          if (error == null) {\n            return \"BokehJS is loading ...\";\n          } else {\n            return \"BokehJS failed to load.\";\n          }\n        } else {\n          const prefix = `BokehJS ${root.Bokeh.version}`;\n          if (error == null) {\n            return `${prefix} successfully loaded.`;\n          } else {\n            return `${prefix} <b>encountered errors</b> while loading and may not function as expected.`;\n          }\n        }\n      })();\n      el.innerHTML = html;\n\n      if (error != null) {\n        const wrapper = document.createElement(\"div\");\n        wrapper.style.overflow = \"auto\";\n        wrapper.style.height = \"5em\";\n        wrapper.style.resize = \"vertical\";\n        const content = document.createElement(\"div\");\n        content.style.fontFamily = \"monospace\";\n        content.style.whiteSpace = \"pre-wrap\";\n        content.style.backgroundColor = \"rgb(255, 221, 221)\";\n        content.textContent = error.stack ?? error.toString();\n        wrapper.append(content);\n        el.append(wrapper);\n      }\n    } else if (Date.now() < root._bokeh_timeout) {\n      setTimeout(() => display_loaded(error), 100);\n    }\n  }\n\n  function run_callbacks() {\n    try {\n      root._bokeh_onload_callbacks.forEach(function(callback) {\n        if (callback != null)\n          callback();\n      });\n    } finally {\n      delete root._bokeh_onload_callbacks\n    }\n    console.debug(\"Bokeh: all callbacks have finished\");\n  }\n\n  function load_libs(css_urls, js_urls, callback) {\n    if (css_urls == null) css_urls = [];\n    if (js_urls == null) js_urls = [];\n\n    root._bokeh_onload_callbacks.push(callback);\n    if (root._bokeh_is_loading > 0) {\n      console.debug(\"Bokeh: BokehJS is being loaded, scheduling callback at\", now());\n      return null;\n    }\n    if (js_urls == null || js_urls.length === 0) {\n      run_callbacks();\n      return null;\n    }\n    console.debug(\"Bokeh: BokehJS not loaded, scheduling load and callback at\", now());\n    root._bokeh_is_loading = css_urls.length + js_urls.length;\n\n    function on_load() {\n      root._bokeh_is_loading--;\n      if (root._bokeh_is_loading === 0) {\n        console.debug(\"Bokeh: all BokehJS libraries/stylesheets loaded\");\n        run_callbacks()\n      }\n    }\n\n    function on_error(url) {\n      console.error(\"failed to load \" + url);\n    }\n\n    for (let i = 0; i < css_urls.length; i++) {\n      const url = css_urls[i];\n      const element = document.createElement(\"link\");\n      element.onload = on_load;\n      element.onerror = on_error.bind(null, url);\n      element.rel = \"stylesheet\";\n      element.type = \"text/css\";\n      element.href = url;\n      console.debug(\"Bokeh: injecting link tag for BokehJS stylesheet: \", url);\n      document.body.appendChild(element);\n    }\n\n    for (let i = 0; i < js_urls.length; i++) {\n      const url = js_urls[i];\n      const element = document.createElement('script');\n      element.onload = on_load;\n      element.onerror = on_error.bind(null, url);\n      element.async = false;\n      element.src = url;\n      console.debug(\"Bokeh: injecting script tag for BokehJS library: \", url);\n      document.head.appendChild(element);\n    }\n  };\n\n  function inject_raw_css(css) {\n    const element = document.createElement(\"style\");\n    element.appendChild(document.createTextNode(css));\n    document.body.appendChild(element);\n  }\n\n  const js_urls = [\"https://cdn.bokeh.org/bokeh/release/bokeh-3.4.3.min.js\", \"https://cdn.bokeh.org/bokeh/release/bokeh-gl-3.4.3.min.js\", \"https://cdn.bokeh.org/bokeh/release/bokeh-widgets-3.4.3.min.js\", \"https://cdn.bokeh.org/bokeh/release/bokeh-tables-3.4.3.min.js\", \"https://cdn.bokeh.org/bokeh/release/bokeh-mathjax-3.4.3.min.js\"];\n  const css_urls = [];\n\n  const inline_js = [    function(Bokeh) {\n      Bokeh.set_log_level(\"info\");\n    },\nfunction(Bokeh) {\n    }\n  ];\n\n  function run_inline_js() {\n    if (root.Bokeh !== undefined || force === true) {\n      try {\n            for (let i = 0; i < inline_js.length; i++) {\n      inline_js[i].call(root, root.Bokeh);\n    }\n\n      } catch (error) {throw error;\n      }} else if (Date.now() < root._bokeh_timeout) {\n      setTimeout(run_inline_js, 100);\n    } else if (!root._bokeh_failed_load) {\n      console.log(\"Bokeh: BokehJS failed to load within specified timeout.\");\n      root._bokeh_failed_load = true;\n    } else if (force !== true) {\n      const cell = $(document.getElementById(null)).parents('.cell').data().cell;\n      cell.output_area.append_execute_result(NB_LOAD_WARNING)\n    }\n  }\n\n  if (root._bokeh_is_loading === 0) {\n    console.debug(\"Bokeh: BokehJS loaded, going straight to plotting\");\n    run_inline_js();\n  } else {\n    load_libs(css_urls, js_urls, function() {\n      console.debug(\"Bokeh: BokehJS plotting callback run at\", now());\n      run_inline_js();\n    });\n  }\n}(window));"
          },
          "metadata": {}
        },
        {
          "output_type": "display_data",
          "data": {
            "text/html": [
              "\n",
              "  <div id=\"c5ebdade-7a0d-4f05-bd9b-6ce37038f57f\" data-root-id=\"p5073\" style=\"display: contents;\"></div>\n"
            ]
          },
          "metadata": {}
        },
        {
          "output_type": "display_data",
          "data": {
            "application/javascript": [
              "(function(root) {\n",
              "  function embed_document(root) {\n",
              "  const docs_json = {\"63de3cb4-b7d7-4930-8170-e45ce7581ffd\":{\"version\":\"3.4.3\",\"title\":\"Bokeh Application\",\"roots\":[{\"type\":\"object\",\"name\":\"Figure\",\"id\":\"p5073\",\"attributes\":{\"width\":870,\"height\":550,\"x_range\":{\"type\":\"object\",\"name\":\"DataRange1d\",\"id\":\"p5074\"},\"y_range\":{\"type\":\"object\",\"name\":\"DataRange1d\",\"id\":\"p5075\",\"attributes\":{\"start\":0}},\"x_scale\":{\"type\":\"object\",\"name\":\"LinearScale\",\"id\":\"p5083\"},\"y_scale\":{\"type\":\"object\",\"name\":\"LinearScale\",\"id\":\"p5084\"},\"title\":{\"type\":\"object\",\"name\":\"Title\",\"id\":\"p5076\",\"attributes\":{\"text\":\"Testing the Null Hypothesis Against the Observed Accuracy \\n10000 Simulated Samples\"}},\"renderers\":[{\"type\":\"object\",\"name\":\"GlyphRenderer\",\"id\":\"p5112\",\"attributes\":{\"data_source\":{\"type\":\"object\",\"name\":\"ColumnDataSource\",\"id\":\"p5106\",\"attributes\":{\"selected\":{\"type\":\"object\",\"name\":\"Selection\",\"id\":\"p5107\",\"attributes\":{\"indices\":[],\"line_indices\":[]}},\"selection_policy\":{\"type\":\"object\",\"name\":\"UnionRenderers\",\"id\":\"p5108\"},\"data\":{\"type\":\"map\",\"entries\":[[\"top\",{\"type\":\"ndarray\",\"array\":{\"type\":\"bytes\",\"data\":\"rTQT2qyqQz8DzxxHA4BNP9gBmBBYlVg/kZsZeOY4aj+tNBParKpzP4U0sdg6noE/Wmgpq3QEij8/zjJAyUGTP/8B+hHKoZo/ccH2zKw0oz+iQbFOO8SlP8ybLHqRS60/YOFb7DpPsj8WW8czAtKzP9Q0ddset7U/xAHnDx+Ptz+u4R/vHmi2P7SUVToCDbQ/P84yQMlBsz8cD/qHyseuP2/b47YCbqg/AlsWM8nLoj+1zlhEH2eZP1LO40ACSJQ/yM4JRVhtij9KNZvfdNx7P6ln8KRzzHA/SjWb33Tcaz/0mpFyHgdSP5GbGXjmODo/OwEQC5BjQD+tNBParKozP5GbGXjmOBo/AAAAAAAAAAAAAAAAAAAAAA==\"},\"shape\":[35],\"dtype\":\"float64\",\"order\":\"little\"}],[\"left\",{\"type\":\"ndarray\",\"array\":{\"type\":\"bytes\",\"data\":\"AAAAAACAOEAAAAAAAIA5QAAAAAAAgDpAAAAAAACAO0AAAAAAAIA8QAAAAAAAgD1AAAAAAACAPkAAAAAAAIA/QAAAAAAAQEBAAAAAAADAQEAAAAAAAEBBQAAAAAAAwEFAAAAAAABAQkAAAAAAAMBCQAAAAAAAQENAAAAAAADAQ0AAAAAAAEBEQAAAAAAAwERAAAAAAABARUAAAAAAAMBFQAAAAAAAQEZAAAAAAADARkAAAAAAAEBHQAAAAAAAwEdAAAAAAABASEAAAAAAAMBIQAAAAAAAQElAAAAAAADASUAAAAAAAEBKQAAAAAAAwEpAAAAAAABAS0AAAAAAAMBLQAAAAAAAQExAAAAAAADATEAAAAAAAEBNQA==\"},\"shape\":[35],\"dtype\":\"float64\",\"order\":\"little\"}],[\"right\",{\"type\":\"ndarray\",\"array\":{\"type\":\"bytes\",\"data\":\"AAAAAACAOUAAAAAAAIA6QAAAAAAAgDtAAAAAAACAPEAAAAAAAIA9QAAAAAAAgD5AAAAAAACAP0AAAAAAAEBAQAAAAAAAwEBAAAAAAABAQUAAAAAAAMBBQAAAAAAAQEJAAAAAAADAQkAAAAAAAEBDQAAAAAAAwENAAAAAAABAREAAAAAAAMBEQAAAAAAAQEVAAAAAAADARUAAAAAAAEBGQAAAAAAAwEZAAAAAAABAR0AAAAAAAMBHQAAAAAAAQEhAAAAAAADASEAAAAAAAEBJQAAAAAAAwElAAAAAAABASkAAAAAAAMBKQAAAAAAAQEtAAAAAAADAS0AAAAAAAEBMQAAAAAAAwExAAAAAAABATUAAAAAAAMBNQA==\"},\"shape\":[35],\"dtype\":\"float64\",\"order\":\"little\"}],[\"fill_color\",[\"skyblue\",\"skyblue\",\"skyblue\",\"skyblue\",\"skyblue\",\"skyblue\",\"skyblue\",\"skyblue\",\"skyblue\",\"skyblue\",\"skyblue\",\"skyblue\",\"skyblue\",\"skyblue\",\"skyblue\",\"skyblue\",\"skyblue\",\"skyblue\",\"skyblue\",\"skyblue\",\"skyblue\",\"skyblue\",\"skyblue\",\"skyblue\",\"lightsalmon\",\"lightsalmon\",\"lightsalmon\",\"lightsalmon\",\"lightsalmon\",\"lightsalmon\",\"lightsalmon\",\"lightsalmon\",\"lightsalmon\",\"lightsalmon\",\"lightsalmon\"]]]}}},\"view\":{\"type\":\"object\",\"name\":\"CDSView\",\"id\":\"p5113\",\"attributes\":{\"filter\":{\"type\":\"object\",\"name\":\"AllIndices\",\"id\":\"p5114\"}}},\"glyph\":{\"type\":\"object\",\"name\":\"Quad\",\"id\":\"p5109\",\"attributes\":{\"left\":{\"type\":\"field\",\"field\":\"left\"},\"right\":{\"type\":\"field\",\"field\":\"right\"},\"bottom\":{\"type\":\"value\",\"value\":0},\"top\":{\"type\":\"field\",\"field\":\"top\"},\"line_color\":{\"type\":\"value\",\"value\":\"white\"},\"fill_color\":{\"type\":\"field\",\"field\":\"fill_color\"}}},\"nonselection_glyph\":{\"type\":\"object\",\"name\":\"Quad\",\"id\":\"p5110\",\"attributes\":{\"left\":{\"type\":\"field\",\"field\":\"left\"},\"right\":{\"type\":\"field\",\"field\":\"right\"},\"bottom\":{\"type\":\"value\",\"value\":0},\"top\":{\"type\":\"field\",\"field\":\"top\"},\"line_color\":{\"type\":\"value\",\"value\":\"white\"},\"line_alpha\":{\"type\":\"value\",\"value\":0.1},\"fill_color\":{\"type\":\"field\",\"field\":\"fill_color\"},\"fill_alpha\":{\"type\":\"value\",\"value\":0.1},\"hatch_alpha\":{\"type\":\"value\",\"value\":0.1}}},\"muted_glyph\":{\"type\":\"object\",\"name\":\"Quad\",\"id\":\"p5111\",\"attributes\":{\"left\":{\"type\":\"field\",\"field\":\"left\"},\"right\":{\"type\":\"field\",\"field\":\"right\"},\"bottom\":{\"type\":\"value\",\"value\":0},\"top\":{\"type\":\"field\",\"field\":\"top\"},\"line_color\":{\"type\":\"value\",\"value\":\"white\"},\"line_alpha\":{\"type\":\"value\",\"value\":0.2},\"fill_color\":{\"type\":\"field\",\"field\":\"fill_color\"},\"fill_alpha\":{\"type\":\"value\",\"value\":0.2},\"hatch_alpha\":{\"type\":\"value\",\"value\":0.2}}}}},{\"type\":\"object\",\"name\":\"GlyphRenderer\",\"id\":\"p5123\",\"attributes\":{\"data_source\":{\"type\":\"object\",\"name\":\"ColumnDataSource\",\"id\":\"p5117\",\"attributes\":{\"selected\":{\"type\":\"object\",\"name\":\"Selection\",\"id\":\"p5118\",\"attributes\":{\"indices\":[],\"line_indices\":[]}},\"selection_policy\":{\"type\":\"object\",\"name\":\"UnionRenderers\",\"id\":\"p5119\"},\"data\":{\"type\":\"map\",\"entries\":[[\"x\",[40,40]],[\"y\",[0,0.09202760828248474]]]}}},\"view\":{\"type\":\"object\",\"name\":\"CDSView\",\"id\":\"p5124\",\"attributes\":{\"filter\":{\"type\":\"object\",\"name\":\"AllIndices\",\"id\":\"p5125\"}}},\"glyph\":{\"type\":\"object\",\"name\":\"Line\",\"id\":\"p5120\",\"attributes\":{\"x\":{\"type\":\"field\",\"field\":\"x\"},\"y\":{\"type\":\"field\",\"field\":\"y\"},\"line_width\":2,\"line_dash\":[6]}},\"nonselection_glyph\":{\"type\":\"object\",\"name\":\"Line\",\"id\":\"p5121\",\"attributes\":{\"x\":{\"type\":\"field\",\"field\":\"x\"},\"y\":{\"type\":\"field\",\"field\":\"y\"},\"line_alpha\":0.1,\"line_width\":2,\"line_dash\":[6]}},\"muted_glyph\":{\"type\":\"object\",\"name\":\"Line\",\"id\":\"p5122\",\"attributes\":{\"x\":{\"type\":\"field\",\"field\":\"x\"},\"y\":{\"type\":\"field\",\"field\":\"y\"},\"line_alpha\":0.2,\"line_width\":2,\"line_dash\":[6]}}}},{\"type\":\"object\",\"name\":\"GlyphRenderer\",\"id\":\"p5133\",\"attributes\":{\"data_source\":{\"type\":\"object\",\"name\":\"ColumnDataSource\",\"id\":\"p5127\",\"attributes\":{\"selected\":{\"type\":\"object\",\"name\":\"Selection\",\"id\":\"p5128\",\"attributes\":{\"indices\":[],\"line_indices\":[]}},\"selection_policy\":{\"type\":\"object\",\"name\":\"UnionRenderers\",\"id\":\"p5129\"},\"data\":{\"type\":\"map\",\"entries\":[[\"x\",[49,49]],[\"y\",[0,0.09202760828248474]]]}}},\"view\":{\"type\":\"object\",\"name\":\"CDSView\",\"id\":\"p5134\",\"attributes\":{\"filter\":{\"type\":\"object\",\"name\":\"AllIndices\",\"id\":\"p5135\"}}},\"glyph\":{\"type\":\"object\",\"name\":\"Line\",\"id\":\"p5130\",\"attributes\":{\"x\":{\"type\":\"field\",\"field\":\"x\"},\"y\":{\"type\":\"field\",\"field\":\"y\"},\"line_color\":\"red\",\"line_width\":2,\"line_dash\":[6]}},\"nonselection_glyph\":{\"type\":\"object\",\"name\":\"Line\",\"id\":\"p5131\",\"attributes\":{\"x\":{\"type\":\"field\",\"field\":\"x\"},\"y\":{\"type\":\"field\",\"field\":\"y\"},\"line_color\":\"red\",\"line_alpha\":0.1,\"line_width\":2,\"line_dash\":[6]}},\"muted_glyph\":{\"type\":\"object\",\"name\":\"Line\",\"id\":\"p5132\",\"attributes\":{\"x\":{\"type\":\"field\",\"field\":\"x\"},\"y\":{\"type\":\"field\",\"field\":\"y\"},\"line_color\":\"red\",\"line_alpha\":0.2,\"line_width\":2,\"line_dash\":[6]}}}}],\"toolbar\":{\"type\":\"object\",\"name\":\"Toolbar\",\"id\":\"p5082\",\"attributes\":{\"tools\":[{\"type\":\"object\",\"name\":\"PanTool\",\"id\":\"p5095\"},{\"type\":\"object\",\"name\":\"WheelZoomTool\",\"id\":\"p5096\",\"attributes\":{\"renderers\":\"auto\"}},{\"type\":\"object\",\"name\":\"BoxZoomTool\",\"id\":\"p5097\",\"attributes\":{\"overlay\":{\"type\":\"object\",\"name\":\"BoxAnnotation\",\"id\":\"p5098\",\"attributes\":{\"syncable\":false,\"level\":\"overlay\",\"visible\":false,\"left\":{\"type\":\"number\",\"value\":\"nan\"},\"right\":{\"type\":\"number\",\"value\":\"nan\"},\"top\":{\"type\":\"number\",\"value\":\"nan\"},\"bottom\":{\"type\":\"number\",\"value\":\"nan\"},\"left_units\":\"canvas\",\"right_units\":\"canvas\",\"top_units\":\"canvas\",\"bottom_units\":\"canvas\",\"line_color\":\"black\",\"line_alpha\":1.0,\"line_width\":2,\"line_dash\":[4,4],\"fill_color\":\"lightgrey\",\"fill_alpha\":0.5}}}},{\"type\":\"object\",\"name\":\"SaveTool\",\"id\":\"p5103\"},{\"type\":\"object\",\"name\":\"ResetTool\",\"id\":\"p5104\"},{\"type\":\"object\",\"name\":\"HelpTool\",\"id\":\"p5105\"}]}},\"toolbar_location\":null,\"left\":[{\"type\":\"object\",\"name\":\"LinearAxis\",\"id\":\"p5090\",\"attributes\":{\"ticker\":{\"type\":\"object\",\"name\":\"BasicTicker\",\"id\":\"p5091\",\"attributes\":{\"mantissas\":[1,2,5]}},\"formatter\":{\"type\":\"object\",\"name\":\"BasicTickFormatter\",\"id\":\"p5092\"},\"axis_label\":\"Relative Frequency\",\"major_label_policy\":{\"type\":\"object\",\"name\":\"AllLabels\",\"id\":\"p5093\"}}}],\"below\":[{\"type\":\"object\",\"name\":\"LinearAxis\",\"id\":\"p5085\",\"attributes\":{\"ticker\":{\"type\":\"object\",\"name\":\"BasicTicker\",\"id\":\"p5086\",\"attributes\":{\"mantissas\":[1,2,5]}},\"formatter\":{\"type\":\"object\",\"name\":\"BasicTickFormatter\",\"id\":\"p5087\"},\"axis_label\":\"Correct Guesses (out of 80)\",\"major_label_policy\":{\"type\":\"object\",\"name\":\"AllLabels\",\"id\":\"p5088\"}}}],\"center\":[{\"type\":\"object\",\"name\":\"Grid\",\"id\":\"p5089\",\"attributes\":{\"axis\":{\"id\":\"p5085\"}}},{\"type\":\"object\",\"name\":\"Grid\",\"id\":\"p5094\",\"attributes\":{\"dimension\":1,\"axis\":{\"id\":\"p5090\"}}},{\"type\":\"object\",\"name\":\"Legend\",\"id\":\"p5115\",\"attributes\":{\"items\":[{\"type\":\"object\",\"name\":\"LegendItem\",\"id\":\"p5116\",\"attributes\":{\"label\":{\"type\":\"value\",\"value\":\"Simulated Samples (10000)\"},\"renderers\":[{\"id\":\"p5112\"}]}},{\"type\":\"object\",\"name\":\"LegendItem\",\"id\":\"p5126\",\"attributes\":{\"label\":{\"type\":\"value\",\"value\":\"Null Hypothesis (p = 0.5)\"},\"renderers\":[{\"id\":\"p5123\"}]}},{\"type\":\"object\",\"name\":\"LegendItem\",\"id\":\"p5136\",\"attributes\":{\"label\":{\"type\":\"value\",\"value\":\"Observed Result (49 correct guesses)\"},\"renderers\":[{\"id\":\"p5133\"}]}}]}},{\"type\":\"object\",\"name\":\"Label\",\"id\":\"p5137\",\"attributes\":{\"text\":\">= 49 correct guesses\",\"x\":50.5,\"y\":0.009}}]}}]}};\n",
              "  const render_items = [{\"docid\":\"63de3cb4-b7d7-4930-8170-e45ce7581ffd\",\"roots\":{\"p5073\":\"c5ebdade-7a0d-4f05-bd9b-6ce37038f57f\"},\"root_ids\":[\"p5073\"]}];\n",
              "  void root.Bokeh.embed.embed_items_notebook(docs_json, render_items);\n",
              "  }\n",
              "  if (root.Bokeh !== undefined) {\n",
              "    embed_document(root);\n",
              "  } else {\n",
              "    let attempts = 0;\n",
              "    const timer = setInterval(function(root) {\n",
              "      if (root.Bokeh !== undefined) {\n",
              "        clearInterval(timer);\n",
              "        embed_document(root);\n",
              "      } else {\n",
              "        attempts++;\n",
              "        if (attempts > 100) {\n",
              "          clearInterval(timer);\n",
              "          console.log(\"Bokeh: ERROR: Unable to run BokehJS code because BokehJS library is missing\");\n",
              "        }\n",
              "      }\n",
              "    }, 10, root)\n",
              "  }\n",
              "})(window);"
            ],
            "application/vnd.bokehjs_exec.v0+json": ""
          },
          "metadata": {
            "application/vnd.bokehjs_exec.v0+json": {
              "id": "p5073"
            }
          }
        }
      ]
    },
    {
      "cell_type": "code",
      "source": [
        "tally = 0\n",
        "for n in null_samples:\n",
        "  if (n.sum() >= 49):\n",
        "    tally += 1\n",
        "p_value = tally / test_count\n",
        "print(\"p-Value:\", round(p_value,5))"
      ],
      "metadata": {
        "colab": {
          "base_uri": "https://localhost:8080/"
        },
        "id": "oxyVyhrZA4cF",
        "outputId": "d4966f5e-015e-4249-8ecc-faa958857a6b"
      },
      "execution_count": null,
      "outputs": [
        {
          "output_type": "stream",
          "name": "stdout",
          "text": [
            "p-Value: 0.0296\n"
          ]
        }
      ]
    },
    {
      "cell_type": "markdown",
      "source": [
        "### Conclusion:\n",
        "\n",
        "You can see above that the simulated p-value for our data is 0.0296.\n",
        "\n",
        "This means that, when we simulated the null hypothesis 10000 times (see histogram), only 2.96% of those simulated samples guessed correctly 49 times or more.\n",
        "\n",
        "If we consult the table for p-values, we'll see that 0.296 is in the 0.01 - 0.05 range, meaning it provides moderate evidence to reject the null hypothesis.\n",
        "\n",
        "In this case, it means there's *some* evidence to suggest students are able to guess correctly more than half the time, but we can't draw any strong conclusions from our data."
      ],
      "metadata": {
        "id": "2QEsBQc8UbGx"
      }
    },
    {
      "cell_type": "markdown",
      "source": [
        "### ChatGPT Logs\n",
        "\n",
        "Link to Chatlog: https://chatgpt.com/share/670f3307-5994-800e-a0fa-70d431278416\n",
        "\n",
        "Summary of chat by ChatGPT:\n",
        "\n",
        "> Sure! Here’s a summary of our conversation:\n",
        ">\n",
        "> 1. **Hypothesis Testing with Coin Flips**:\n",
        "   - You asked how to declare a null hypothesis for flipping a coin, which led to discussing the null hypothesis as \\( H_0: p = 0.5 \\) (the coin is fair).\n",
        "   - We talked about generating random samples of 50/50 coin flips to test this hypothesis.\n",
        ">\n",
        "> 2. **Extending to Three Outcomes**:\n",
        "   - You inquired about a null hypothesis with three possible outcomes. We discussed how to formulate it as \\( H_0: p_1 = p_2 = p_3 = \\frac{1}{3} \\).\n",
        ">\n",
        "> 3. **Analyzing Coin Flip Data**:\n",
        "   - We analyzed a scenario where you flipped a coin 80 times, obtaining 49 heads. We discussed the implications of this result and how to use a binomial test to determine if it provides evidence against the null hypothesis of a fair coin.\n",
        ">\n",
        "> 4. **P-Value Interpretation**:\n",
        "   - I explained that a p-value of around 0.045 would suggest some evidence against the null hypothesis, particularly in a one-tailed test, but not strong enough to confidently assert the coin is biased in a two-tailed test.\n",
        ">\n",
        "> 5. **Bar Graph from Histogram**:\n",
        "   - You asked how to turn a histogram into a bar graph. I provided steps for calculating histogram data, converting it to bar graph data (centers and counts), and plotting it using both Matplotlib and Bokeh.\n",
        ">\n",
        "> 6. **Shifting a Histogram**:\n",
        "   - We discussed how to shift a histogram visually or through data manipulation, demonstrating methods to shift the underlying data or adjust the bin edges when plotting in both Matplotlib and Bokeh.\n",
        ">\n",
        "> If you have any more questions or need further clarification on any topic, feel free to ask!\n",
        "\n"
      ],
      "metadata": {
        "id": "nX_y8BuRXX-y"
      }
    },
    {
      "cell_type": "code",
      "source": [],
      "metadata": {
        "id": "pipaBUQoLyc7"
      },
      "execution_count": null,
      "outputs": []
    }
  ]
}