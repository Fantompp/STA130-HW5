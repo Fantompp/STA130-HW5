{
  "nbformat": 4,
  "nbformat_minor": 0,
  "metadata": {
    "colab": {
      "provenance": [],
      "authorship_tag": "ABX9TyNN3rEeFaH6KgSR8YrmfHym",
      "include_colab_link": true
    },
    "kernelspec": {
      "name": "python3",
      "display_name": "Python 3"
    },
    "language_info": {
      "name": "python"
    }
  },
  "cells": [
    {
      "cell_type": "markdown",
      "metadata": {
        "id": "view-in-github",
        "colab_type": "text"
      },
      "source": [
        "<a href=\"https://colab.research.google.com/github/Fantompp/STA130-HW5/blob/main/STA130_HW7.ipynb\" target=\"_parent\"><img src=\"https://colab.research.google.com/assets/colab-badge.svg\" alt=\"Open In Colab\"/></a>"
      ]
    },
    {
      "cell_type": "markdown",
      "source": [
        "**CHATGPT Chatlogs:**\n",
        "https://chatgpt.com/share/67400c1b-56d4-800e-b585-20bb368748ed"
      ],
      "metadata": {
        "id": "oz39Q-1AL8ic"
      }
    },
    {
      "cell_type": "markdown",
      "source": [
        "4. Explain the apparent contradiction between the factual statements regarding the fit below that \"the model only explains 17.6% of the variability in the data\" while at the same time \"many of the coefficients are larger than 10 while having strong or very strong evidence against the null hypothesis of 'no effect'\""
      ],
      "metadata": {
        "id": "j3BhQ4MQUX-0"
      }
    },
    {
      "cell_type": "markdown",
      "source": [
        "The intuition behind this is a difference between the total variability there is in the data, and the coefficients/evidence.\n",
        "In particular, we've identified strong evidence that generation of pokemon and special defense has some rather large positive effect on the HP stat. So generally speaking, post-gen 1 pokemon have higher HP, and pokemon with higher spdef have higher HP.\n",
        "\n",
        "This explains some of the variability in the original data, however, there are many other factors which impact the HP stat of a pokemon. If this model were to explain 100% of the variability, it would mean we could predict the HP of a pokemon just from its generation and spdef, which is clearly not true. For example, Pikachu and Machoke are both gen 1 pokemon with a special defense of 60, but Pikachu has a lowly 45 HP, while Machoke has a whopping 80."
      ],
      "metadata": {
        "id": "Uj-sLHORUqST"
      }
    },
    {
      "cell_type": "code",
      "source": [
        "import pandas as pd\n",
        "\n",
        "url = \"https://raw.githubusercontent.com/KeithGalli/pandas/master/pokemon_data.csv\"\n",
        "# fail https://github.com/KeithGalli/pandas/blob/master/pokemon_data.csv\n",
        "pokeaman = pd.read_csv(url)\n",
        "pokeaman\n",
        "import statsmodels.formula.api as smf\n",
        "\n",
        "model1_spec = smf.ols(formula='HP ~ Q(\"Sp. Def\") + C(Generation)', data=pokeaman)\n",
        "model2_spec = smf.ols(formula='HP ~ Q(\"Sp. Def\") + C(Generation) + Q(\"Sp. Def\"):C(Generation)', data=pokeaman)\n",
        "model2_spec = smf.ols(formula='HP ~ Q(\"Sp. Def\") * C(Generation)', data=pokeaman)\n",
        "\n",
        "model2_fit = model2_spec.fit()\n",
        "model2_fit.summary()"
      ],
      "metadata": {
        "colab": {
          "base_uri": "https://localhost:8080/",
          "height": 700
        },
        "id": "B8TbhiEuUZP4",
        "outputId": "12346eec-907b-4d7d-af73-c16f26079f97"
      },
      "execution_count": 1,
      "outputs": [
        {
          "output_type": "execute_result",
          "data": {
            "text/plain": [
              "<class 'statsmodels.iolib.summary.Summary'>\n",
              "\"\"\"\n",
              "                            OLS Regression Results                            \n",
              "==============================================================================\n",
              "Dep. Variable:                     HP   R-squared:                       0.176\n",
              "Model:                            OLS   Adj. R-squared:                  0.164\n",
              "Method:                 Least Squares   F-statistic:                     15.27\n",
              "Date:                Fri, 22 Nov 2024   Prob (F-statistic):           3.50e-27\n",
              "Time:                        00:43:14   Log-Likelihood:                -3649.4\n",
              "No. Observations:                 800   AIC:                             7323.\n",
              "Df Residuals:                     788   BIC:                             7379.\n",
              "Df Model:                          11                                         \n",
              "Covariance Type:            nonrobust                                         \n",
              "===================================================================================================\n",
              "                                      coef    std err          t      P>|t|      [0.025      0.975]\n",
              "---------------------------------------------------------------------------------------------------\n",
              "Intercept                          26.8971      5.246      5.127      0.000      16.599      37.195\n",
              "C(Generation)[T.2]                 20.0449      7.821      2.563      0.011       4.692      35.398\n",
              "C(Generation)[T.3]                 21.3662      6.998      3.053      0.002       7.629      35.103\n",
              "C(Generation)[T.4]                 31.9575      8.235      3.881      0.000      15.793      48.122\n",
              "C(Generation)[T.5]                  9.4926      7.883      1.204      0.229      -5.982      24.968\n",
              "C(Generation)[T.6]                 22.2693      8.709      2.557      0.011       5.173      39.366\n",
              "Q(\"Sp. Def\")                        0.5634      0.071      7.906      0.000       0.423       0.703\n",
              "Q(\"Sp. Def\"):C(Generation)[T.2]    -0.2350      0.101     -2.316      0.021      -0.434      -0.036\n",
              "Q(\"Sp. Def\"):C(Generation)[T.3]    -0.3067      0.093     -3.300      0.001      -0.489      -0.124\n",
              "Q(\"Sp. Def\"):C(Generation)[T.4]    -0.3790      0.105     -3.600      0.000      -0.586      -0.172\n",
              "Q(\"Sp. Def\"):C(Generation)[T.5]    -0.0484      0.108     -0.447      0.655      -0.261       0.164\n",
              "Q(\"Sp. Def\"):C(Generation)[T.6]    -0.3083      0.112     -2.756      0.006      -0.528      -0.089\n",
              "==============================================================================\n",
              "Omnibus:                      337.229   Durbin-Watson:                   1.505\n",
              "Prob(Omnibus):                  0.000   Jarque-Bera (JB):             2871.522\n",
              "Skew:                           1.684   Prob(JB):                         0.00\n",
              "Kurtosis:                      11.649   Cond. No.                     1.40e+03\n",
              "==============================================================================\n",
              "\n",
              "Notes:\n",
              "[1] Standard Errors assume that the covariance matrix of the errors is correctly specified.\n",
              "[2] The condition number is large, 1.4e+03. This might indicate that there are\n",
              "strong multicollinearity or other numerical problems.\n",
              "\"\"\""
            ],
            "text/html": [
              "<table class=\"simpletable\">\n",
              "<caption>OLS Regression Results</caption>\n",
              "<tr>\n",
              "  <th>Dep. Variable:</th>           <td>HP</td>        <th>  R-squared:         </th> <td>   0.176</td>\n",
              "</tr>\n",
              "<tr>\n",
              "  <th>Model:</th>                   <td>OLS</td>       <th>  Adj. R-squared:    </th> <td>   0.164</td>\n",
              "</tr>\n",
              "<tr>\n",
              "  <th>Method:</th>             <td>Least Squares</td>  <th>  F-statistic:       </th> <td>   15.27</td>\n",
              "</tr>\n",
              "<tr>\n",
              "  <th>Date:</th>             <td>Fri, 22 Nov 2024</td> <th>  Prob (F-statistic):</th> <td>3.50e-27</td>\n",
              "</tr>\n",
              "<tr>\n",
              "  <th>Time:</th>                 <td>00:43:14</td>     <th>  Log-Likelihood:    </th> <td> -3649.4</td>\n",
              "</tr>\n",
              "<tr>\n",
              "  <th>No. Observations:</th>      <td>   800</td>      <th>  AIC:               </th> <td>   7323.</td>\n",
              "</tr>\n",
              "<tr>\n",
              "  <th>Df Residuals:</th>          <td>   788</td>      <th>  BIC:               </th> <td>   7379.</td>\n",
              "</tr>\n",
              "<tr>\n",
              "  <th>Df Model:</th>              <td>    11</td>      <th>                     </th>     <td> </td>   \n",
              "</tr>\n",
              "<tr>\n",
              "  <th>Covariance Type:</th>      <td>nonrobust</td>    <th>                     </th>     <td> </td>   \n",
              "</tr>\n",
              "</table>\n",
              "<table class=\"simpletable\">\n",
              "<tr>\n",
              "                 <td></td>                    <th>coef</th>     <th>std err</th>      <th>t</th>      <th>P>|t|</th>  <th>[0.025</th>    <th>0.975]</th>  \n",
              "</tr>\n",
              "<tr>\n",
              "  <th>Intercept</th>                       <td>   26.8971</td> <td>    5.246</td> <td>    5.127</td> <td> 0.000</td> <td>   16.599</td> <td>   37.195</td>\n",
              "</tr>\n",
              "<tr>\n",
              "  <th>C(Generation)[T.2]</th>              <td>   20.0449</td> <td>    7.821</td> <td>    2.563</td> <td> 0.011</td> <td>    4.692</td> <td>   35.398</td>\n",
              "</tr>\n",
              "<tr>\n",
              "  <th>C(Generation)[T.3]</th>              <td>   21.3662</td> <td>    6.998</td> <td>    3.053</td> <td> 0.002</td> <td>    7.629</td> <td>   35.103</td>\n",
              "</tr>\n",
              "<tr>\n",
              "  <th>C(Generation)[T.4]</th>              <td>   31.9575</td> <td>    8.235</td> <td>    3.881</td> <td> 0.000</td> <td>   15.793</td> <td>   48.122</td>\n",
              "</tr>\n",
              "<tr>\n",
              "  <th>C(Generation)[T.5]</th>              <td>    9.4926</td> <td>    7.883</td> <td>    1.204</td> <td> 0.229</td> <td>   -5.982</td> <td>   24.968</td>\n",
              "</tr>\n",
              "<tr>\n",
              "  <th>C(Generation)[T.6]</th>              <td>   22.2693</td> <td>    8.709</td> <td>    2.557</td> <td> 0.011</td> <td>    5.173</td> <td>   39.366</td>\n",
              "</tr>\n",
              "<tr>\n",
              "  <th>Q(\"Sp. Def\")</th>                    <td>    0.5634</td> <td>    0.071</td> <td>    7.906</td> <td> 0.000</td> <td>    0.423</td> <td>    0.703</td>\n",
              "</tr>\n",
              "<tr>\n",
              "  <th>Q(\"Sp. Def\"):C(Generation)[T.2]</th> <td>   -0.2350</td> <td>    0.101</td> <td>   -2.316</td> <td> 0.021</td> <td>   -0.434</td> <td>   -0.036</td>\n",
              "</tr>\n",
              "<tr>\n",
              "  <th>Q(\"Sp. Def\"):C(Generation)[T.3]</th> <td>   -0.3067</td> <td>    0.093</td> <td>   -3.300</td> <td> 0.001</td> <td>   -0.489</td> <td>   -0.124</td>\n",
              "</tr>\n",
              "<tr>\n",
              "  <th>Q(\"Sp. Def\"):C(Generation)[T.4]</th> <td>   -0.3790</td> <td>    0.105</td> <td>   -3.600</td> <td> 0.000</td> <td>   -0.586</td> <td>   -0.172</td>\n",
              "</tr>\n",
              "<tr>\n",
              "  <th>Q(\"Sp. Def\"):C(Generation)[T.5]</th> <td>   -0.0484</td> <td>    0.108</td> <td>   -0.447</td> <td> 0.655</td> <td>   -0.261</td> <td>    0.164</td>\n",
              "</tr>\n",
              "<tr>\n",
              "  <th>Q(\"Sp. Def\"):C(Generation)[T.6]</th> <td>   -0.3083</td> <td>    0.112</td> <td>   -2.756</td> <td> 0.006</td> <td>   -0.528</td> <td>   -0.089</td>\n",
              "</tr>\n",
              "</table>\n",
              "<table class=\"simpletable\">\n",
              "<tr>\n",
              "  <th>Omnibus:</th>       <td>337.229</td> <th>  Durbin-Watson:     </th> <td>   1.505</td>\n",
              "</tr>\n",
              "<tr>\n",
              "  <th>Prob(Omnibus):</th> <td> 0.000</td>  <th>  Jarque-Bera (JB):  </th> <td>2871.522</td>\n",
              "</tr>\n",
              "<tr>\n",
              "  <th>Skew:</th>          <td> 1.684</td>  <th>  Prob(JB):          </th> <td>    0.00</td>\n",
              "</tr>\n",
              "<tr>\n",
              "  <th>Kurtosis:</th>      <td>11.649</td>  <th>  Cond. No.          </th> <td>1.40e+03</td>\n",
              "</tr>\n",
              "</table><br/><br/>Notes:<br/>[1] Standard Errors assume that the covariance matrix of the errors is correctly specified.<br/>[2] The condition number is large, 1.4e+03. This might indicate that there are<br/>strong multicollinearity or other numerical problems."
            ],
            "text/latex": "\\begin{center}\n\\begin{tabular}{lclc}\n\\toprule\n\\textbf{Dep. Variable:}                  &        HP        & \\textbf{  R-squared:         } &     0.176   \\\\\n\\textbf{Model:}                          &       OLS        & \\textbf{  Adj. R-squared:    } &     0.164   \\\\\n\\textbf{Method:}                         &  Least Squares   & \\textbf{  F-statistic:       } &     15.27   \\\\\n\\textbf{Date:}                           & Fri, 22 Nov 2024 & \\textbf{  Prob (F-statistic):} &  3.50e-27   \\\\\n\\textbf{Time:}                           &     00:43:14     & \\textbf{  Log-Likelihood:    } &   -3649.4   \\\\\n\\textbf{No. Observations:}               &         800      & \\textbf{  AIC:               } &     7323.   \\\\\n\\textbf{Df Residuals:}                   &         788      & \\textbf{  BIC:               } &     7379.   \\\\\n\\textbf{Df Model:}                       &          11      & \\textbf{                     } &             \\\\\n\\textbf{Covariance Type:}                &    nonrobust     & \\textbf{                     } &             \\\\\n\\bottomrule\n\\end{tabular}\n\\begin{tabular}{lcccccc}\n                                         & \\textbf{coef} & \\textbf{std err} & \\textbf{t} & \\textbf{P$> |$t$|$} & \\textbf{[0.025} & \\textbf{0.975]}  \\\\\n\\midrule\n\\textbf{Intercept}                       &      26.8971  &        5.246     &     5.127  &         0.000        &       16.599    &       37.195     \\\\\n\\textbf{C(Generation)[T.2]}              &      20.0449  &        7.821     &     2.563  &         0.011        &        4.692    &       35.398     \\\\\n\\textbf{C(Generation)[T.3]}              &      21.3662  &        6.998     &     3.053  &         0.002        &        7.629    &       35.103     \\\\\n\\textbf{C(Generation)[T.4]}              &      31.9575  &        8.235     &     3.881  &         0.000        &       15.793    &       48.122     \\\\\n\\textbf{C(Generation)[T.5]}              &       9.4926  &        7.883     &     1.204  &         0.229        &       -5.982    &       24.968     \\\\\n\\textbf{C(Generation)[T.6]}              &      22.2693  &        8.709     &     2.557  &         0.011        &        5.173    &       39.366     \\\\\n\\textbf{Q(\"Sp. Def\")}                    &       0.5634  &        0.071     &     7.906  &         0.000        &        0.423    &        0.703     \\\\\n\\textbf{Q(\"Sp. Def\"):C(Generation)[T.2]} &      -0.2350  &        0.101     &    -2.316  &         0.021        &       -0.434    &       -0.036     \\\\\n\\textbf{Q(\"Sp. Def\"):C(Generation)[T.3]} &      -0.3067  &        0.093     &    -3.300  &         0.001        &       -0.489    &       -0.124     \\\\\n\\textbf{Q(\"Sp. Def\"):C(Generation)[T.4]} &      -0.3790  &        0.105     &    -3.600  &         0.000        &       -0.586    &       -0.172     \\\\\n\\textbf{Q(\"Sp. Def\"):C(Generation)[T.5]} &      -0.0484  &        0.108     &    -0.447  &         0.655        &       -0.261    &        0.164     \\\\\n\\textbf{Q(\"Sp. Def\"):C(Generation)[T.6]} &      -0.3083  &        0.112     &    -2.756  &         0.006        &       -0.528    &       -0.089     \\\\\n\\bottomrule\n\\end{tabular}\n\\begin{tabular}{lclc}\n\\textbf{Omnibus:}       & 337.229 & \\textbf{  Durbin-Watson:     } &    1.505  \\\\\n\\textbf{Prob(Omnibus):} &   0.000 & \\textbf{  Jarque-Bera (JB):  } & 2871.522  \\\\\n\\textbf{Skew:}          &   1.684 & \\textbf{  Prob(JB):          } &     0.00  \\\\\n\\textbf{Kurtosis:}      &  11.649 & \\textbf{  Cond. No.          } & 1.40e+03  \\\\\n\\bottomrule\n\\end{tabular}\n%\\caption{OLS Regression Results}\n\\end{center}\n\nNotes: \\newline\n [1] Standard Errors assume that the covariance matrix of the errors is correctly specified. \\newline\n [2] The condition number is large, 1.4e+03. This might indicate that there are \\newline\n strong multicollinearity or other numerical problems."
          },
          "metadata": {},
          "execution_count": 1
        }
      ]
    },
    {
      "cell_type": "markdown",
      "source": [
        "7. Discuss with a ChatBot the rationale and principles by which model5_linear_form is extended and developed from model3_fit and model4_fit; model6_linear_form is extended and developed from model5_linear_form; and model7_linear_form is extended and developed from model6_linear_form; then, explain this breifly and consisely in your own words"
      ],
      "metadata": {
        "id": "tqFIXYMjUZr7"
      }
    },
    {
      "cell_type": "markdown",
      "source": [
        "After a nice chat with the Chat, here's what I found:\n",
        "\n",
        "Model 5 basically slaps a whole bunch of variables into the model, specifically legendary status and the other stats. My pokemon intuition says that all of these should have some effect on the HP, but they mostly serve to explain the same thing (legendary mons have high stats all around, and pokemon with high stats tend to have other high stats, up to a certain point). It also adds type, for fun. (I notice it treats first and second type differently, which is interesting).\n",
        "\n",
        "Model 6 refines it removing many of the unimportant variables, and prunes the types only to the relevant types (supposedly, though it's more likely just random types for the sake of example).\n",
        "\n",
        "Model 7 adds some interactions to try to better see how the different stats affect HP together (which should help remove some of the colinearity and better capture behavior).\n",
        "\n",
        "Model 7+ centers and scales the values, essentially normalizing their value and deviation to try to remove colinearity. This probably solves some of what I mentioned about high stat pokemon having other high stats."
      ],
      "metadata": {
        "id": "fL7RtSQeXuZj"
      }
    },
    {
      "cell_type": "markdown",
      "source": [
        "9. Work with a ChatBot to understand the meaning of the illustration below; and, explain this in your own words"
      ],
      "metadata": {
        "id": "6boqUQJlY9Ly"
      }
    },
    {
      "cell_type": "markdown",
      "source": [
        "Chat was a little vague about this one, but as far as I understand, we're doing a bunch of testing to make sure our model is actually robust. Since we have multiple generations of data, rather than the typical train test where we just reserve 20% of the data, we can actually instead just train our data on all but one of the generations, and see how well it predicts the one left out.\n",
        "\n",
        "And in doing so, we show how well our data will generalize to different generations (assuming new generations will roughly be like the ones we currently have).\n",
        "\n",
        "The two examples we do to illustrate this are: Using gen 1 to predict the future gens, and using gen not-6 to predict gen 6.\n",
        "\n",
        "We also do this to see the difference between model 6 and 7. This lets us make sure that these models are overfit to their training data, which becomes a natural concern as the models become more complex, particularly with model 7."
      ],
      "metadata": {
        "id": "YJeAvDTVKdSg"
      }
    },
    {
      "cell_type": "code",
      "source": [],
      "metadata": {
        "id": "KbFJgcToLsHK"
      },
      "execution_count": null,
      "outputs": []
    }
  ]
}